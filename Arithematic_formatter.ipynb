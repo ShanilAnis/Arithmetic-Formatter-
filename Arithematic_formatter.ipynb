{
 "cells": [
  {
   "cell_type": "code",
   "execution_count": 2,
   "id": "58a9ec82",
   "metadata": {},
   "outputs": [
    {
     "name": "stdout",
     "output_type": "stream",
     "text": [
      "  32         1      9999      523\n",
      "+  8    - 3801    + 9999    -  49\n",
      "----    ------    ------    -----\n",
      "  40     -3800     19998      474\n"
     ]
    }
   ],
   "source": [
    "def arithmetic_arranger(problems, show = False):\n",
    "  top = \"\"\n",
    "  middle = \"\"\n",
    "  bottom = \"\"\n",
    "  answer = \"\"\n",
    "  first_gap = \"\"\n",
    "  mid_gap = \" \" * 4\n",
    "  second_gap = \"\"\n",
    "  operators = \"\"\n",
    "  answer_gap = ''\n",
    "  if len(problems) > 5:\n",
    "      return \"Error: Too many problems.\"\n",
    "  else:  \n",
    "      for problem in problems:\n",
    "          first = problem.split()[0]\n",
    "          second = problem.split()[2]\n",
    "          \n",
    "          if (len(first) > 4) or (len(second) > 4):\n",
    "              return \"Error: Numbers cannot be more than four digits.\"\n",
    "          \n",
    "          if first.isnumeric() == False or second.isnumeric() == False :\n",
    "              return \"Error: Numbers must only contain digits.\"\n",
    "\n",
    "\n",
    "          if len(first) >= len(second):\n",
    "                first_gap = \" \" * 2\n",
    "          elif len(first) < len(second):\n",
    "                first_gap = \" \" *( 2 + len(second) - len(first))\n",
    "          if len(second) >= len(first):\n",
    "                second_gap = \" \" * 1\n",
    "          elif len(second) < len(first):\n",
    "                second_gap = \" \" *( 1 + len(first) - len(second))\n",
    "\n",
    "          if (problem.split()[1] == \"+\") or (problem.split()[1] == \"-\"):\n",
    "              operators = problem.split()[1] \n",
    "          else:\n",
    "              return \"Error: Operator must be '+' or '-'.\"\n",
    "\n",
    "          top += first_gap + first + mid_gap  \n",
    "          middle += str(operators) + second_gap + second + mid_gap\n",
    "          bottom += (len(first)+2) * \"-\" + mid_gap if len(first) > len(second) else (len(second)+2) * \"-\" + mid_gap\n",
    "\n",
    "          current_answer = (int(first) + int(second)) if operators == \"+\" else  (int(first) - int(second))\n",
    "          answer_gap = (((len(str(second))+2) - len(str(current_answer)))) * \" \" if len(str(second)) >= len(str(first)) else ((len(str(first))+2) - (len(str(current_answer)))) * \" \"\n",
    "          answer += answer_gap + str(current_answer)  + mid_gap\n",
    "      if show:         \n",
    "          arranged_problems = top.rstrip() + \"\\n\" + middle.rstrip() + \"\\n\" + bottom.rstrip() + \"\\n\" + answer.rstrip()\n",
    "      else:\n",
    "          arranged_problems = top.rstrip() + \"\\n\" + middle.rstrip() + \"\\n\" + bottom.rstrip()\n",
    "      return arranged_problems\n",
    "\n",
    "print(arithmetic_arranger([\"32 + 8\", \"1 - 3801\", \"9999 + 9999\", \"523 - 49\"], True))"
   ]
  },
  {
   "cell_type": "code",
   "execution_count": null,
   "id": "030f640b",
   "metadata": {},
   "outputs": [],
   "source": []
  }
 ],
 "metadata": {
  "kernelspec": {
   "display_name": "Python 3",
   "language": "python",
   "name": "python3"
  },
  "language_info": {
   "codemirror_mode": {
    "name": "ipython",
    "version": 3
   },
   "file_extension": ".py",
   "mimetype": "text/x-python",
   "name": "python",
   "nbconvert_exporter": "python",
   "pygments_lexer": "ipython3",
   "version": "3.8.5"
  }
 },
 "nbformat": 4,
 "nbformat_minor": 5
}
